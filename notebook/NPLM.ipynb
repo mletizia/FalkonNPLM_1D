{
 "cells": [
  {
   "cell_type": "code",
   "execution_count": null,
   "metadata": {},
   "outputs": [],
   "source": [
    "import numpy as np\n",
    "\n",
    "from utils import get_logflk_config, run_toys"
   ]
  },
  {
   "cell_type": "code",
   "execution_count": null,
   "metadata": {},
   "outputs": [],
   "source": [
    "# to estimate flk_sigma from data use candidate_sigma on a reference sample \n",
    "#tune_ref_sample = standardize(np.random.default_rng(0).exponential(scale=1/8, size=(10000,1)))\n",
    "#candidate_sigma(tune_ref_sample)"
   ]
  },
  {
   "cell_type": "code",
   "execution_count": null,
   "metadata": {},
   "outputs": [],
   "source": [
    "N_0=200000 # size of reference sample\n",
    "N0=2000 # expected background\n",
    "weight=N0/N_0\n",
    "\n",
    "M=3000\n",
    "lam=1e-10\n",
    "flk_sigma = 0.3\n",
    "\n",
    "flk_config = get_logflk_config(M,flk_sigma,[lam],weight=weight,iter=[100],seed=None,cpu=False) # seed is set inside learn_t function\n",
    "\n",
    "# null hypothesis\n",
    "NS=0 # expected NP component\n",
    "run_toys(\"NP0\", \"./reference/\", N_0, N0, NS, flk_config, toys=np.arange(100), plots_freq=20, df=9.6)\n",
    "\n",
    "# alternative hypothesis with NP1 signal\n",
    "#NS=10 # expected NP component\n",
    "#run_toys(\"NP1\", \"./NP1/\", N_0, N0, NS, flk_config, toys=np.arange(100), plots_freq=20, df=9.6)"
   ]
  },
  {
   "cell_type": "code",
   "execution_count": null,
   "metadata": {},
   "outputs": [],
   "source": [
    "# to find the degree of freedom of the chi2 for the reference experiments, use the function return_best_chi2dof in utils.py\n",
    "\n",
    "# in utils.py you additional functions can be found to plot the test statistics"
   ]
  }
 ],
 "metadata": {
  "kernelspec": {
   "display_name": "Python 3.9.7 ('FalkonHEPv2')",
   "language": "python",
   "name": "python3"
  },
  "language_info": {
   "codemirror_mode": {
    "name": "ipython",
    "version": 3
   },
   "file_extension": ".py",
   "mimetype": "text/x-python",
   "name": "python",
   "nbconvert_exporter": "python",
   "pygments_lexer": "ipython3",
   "version": "3.9.7"
  },
  "orig_nbformat": 4,
  "vscode": {
   "interpreter": {
    "hash": "a4e59eef8e934b1fba1636c11e3f20efca9f45a170fe6b949027d08e3bf84862"
   }
  }
 },
 "nbformat": 4,
 "nbformat_minor": 2
}
